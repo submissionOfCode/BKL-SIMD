{
 "cells": [
  {
   "cell_type": "markdown",
   "id": "aeb6303a",
   "metadata": {},
   "source": [
    "## Define the BKL Curve "
   ]
  },
  {
   "cell_type": "code",
   "execution_count": 1,
   "id": "b8d064eb",
   "metadata": {},
   "outputs": [
    {
     "name": "stdout",
     "output_type": "stream",
     "text": [
      "b = t^13 + t^9 + t^8 + t^7 + t^2 + t + 1\n",
      "x = t^3 + t^2\n",
      "z = 1\n"
     ]
    }
   ],
   "source": [
    "from sage.all import *\n",
    "\n",
    "# Define the reduction polynomial t^251 + t^7 + t^4 + t^2 + 1\n",
    "p = 2\n",
    "n = 251\n",
    "#modulus = \n",
    "\n",
    "# Define the binary field F_2^251\n",
    "F = GF(p**n, name='t', modulus=x^251 + x^7 + x^4 + x^2 + 1)  # Finite field with specified modulus\n",
    "t = F.gen()  # Define t as the generator of the finite field\n",
    "\n",
    "# Define b as a polynomial\n",
    "b = t^13 + t^9 + t^8 + t^7 + t^2 + t + 1  # b = 0x2387\n",
    "\n",
    "# Define constants x and z explicitly\n",
    "x = t^3 + t^2  # x = 0xc\n",
    "z = 1          # z = 0x1\n",
    "\n",
    "# Print definitions\n",
    "print(f\"b = {b}\")\n",
    "print(f\"x = {x}\")\n",
    "print(f\"z = {z}\")"
   ]
  },
  {
   "cell_type": "markdown",
   "id": "7b2a9634",
   "metadata": {},
   "source": [
    "### Poly to Hex conversion\n"
   ]
  },
  {
   "cell_type": "code",
   "execution_count": 2,
   "id": "6d7870e8",
   "metadata": {},
   "outputs": [],
   "source": [
    "# Function to convert a finite field element to hexadecimal\n",
    "def Tohex(num):\n",
    "    # Check if the input is a finite field element or an integer\n",
    "    if hasattr(num, 'polynomial'):\n",
    "        poly = num.polynomial()\n",
    "        return sum(Integer(2)**i for i in poly.exponents())\n",
    "    elif isinstance(num, (int, Integer)):\n",
    "        # Convert an integer directly to its binary representation\n",
    "        return num\n",
    "    else:\n",
    "        raise TypeError(\"Unsupported type for Tohex: {}\".format(type(num)))\n",
    "    "
   ]
  },
  {
   "cell_type": "markdown",
   "id": "05b73f26",
   "metadata": {},
   "source": [
    "### Scalar Multiplication"
   ]
  },
  {
   "cell_type": "code",
   "execution_count": 3,
   "id": "c6f2fece",
   "metadata": {},
   "outputs": [
    {
     "name": "stdout",
     "output_type": "stream",
     "text": [
      "scalar: 0x5313dfcc10abff26e2953a162d9cca33f63fd151772bd8582c35adafd3cc9b4\n",
      "Point P: (t^3 + t^2, 1)\n",
      "Hex 2P =  ('0x21bd487', '0x50')\n",
      "Hex P+2P =  ('0x140450155141510', '0x300f3fccfcc0fc')\n",
      "-----------FIXED BASE OUTPUTS----------------\n",
      "Point P: (t^3 + t^2, 1)\n",
      "Hex P =  ('0xc', '0x1')\n",
      "Point nP: (t^250 + t^249 + t^247 + t^246 + t^244 + t^243 + t^242 + t^241 + t^240 + t^236 + t^234 + t^232 + t^231 + t^230 + t^228 + t^227 + t^225 + t^224 + t^221 + t^218 + t^216 + t^213 + t^212 + t^208 + t^207 + t^205 + t^203 + t^202 + t^200 + t^196 + t^195 + t^193 + t^191 + t^190 + t^189 + t^188 + t^187 + t^181 + t^179 + t^176 + t^175 + t^174 + t^173 + t^172 + t^167 + t^166 + t^165 + t^163 + t^162 + t^161 + t^160 + t^158 + t^155 + t^154 + t^152 + t^151 + t^148 + t^146 + t^143 + t^142 + t^141 + t^140 + t^138 + t^135 + t^133 + t^132 + t^131 + t^130 + t^128 + t^126 + t^125 + t^124 + t^121 + t^120 + t^119 + t^118 + t^117 + t^116 + t^114 + t^110 + t^109 + t^105 + t^104 + t^101 + t^100 + t^99 + t^98 + t^94 + t^91 + t^89 + t^88 + t^86 + t^85 + t^84 + t^83 + t^82 + t^80 + t^79 + t^76 + t^75 + t^72 + t^70 + t^68 + t^67 + t^66 + t^64 + t^63 + t^60 + t^59 + t^55 + t^54 + t^51 + t^49 + t^46 + t^42 + t^41 + t^39 + t^38 + t^37 + t^36 + t^34 + t^33 + t^30 + t^29 + t^26 + t^25 + t^24 + t^18 + t^14 + t^12 + t^11 + t^10 + t^9 + t^7 + t^6 + t^5 + t^3, t^249 + t^247 + t^246 + t^245 + t^243 + t^242 + t^240 + t^239 + t^238 + t^237 + t^235 + t^234 + t^232 + t^227 + t^226 + t^221 + t^219 + t^218 + t^216 + t^214 + t^213 + t^212 + t^211 + t^210 + t^208 + t^207 + t^206 + t^205 + t^204 + t^203 + t^202 + t^201 + t^196 + t^194 + t^190 + t^188 + t^187 + t^186 + t^185 + t^184 + t^182 + t^180 + t^179 + t^174 + t^173 + t^170 + t^167 + t^165 + t^163 + t^160 + t^159 + t^156 + t^155 + t^154 + t^153 + t^152 + t^151 + t^150 + t^146 + t^144 + t^143 + t^142 + t^139 + t^135 + t^134 + t^132 + t^129 + t^127 + t^124 + t^120 + t^117 + t^114 + t^110 + t^107 + t^105 + t^102 + t^101 + t^100 + t^98 + t^96 + t^95 + t^94 + t^90 + t^89 + t^87 + t^86 + t^85 + t^84 + t^82 + t^81 + t^77 + t^76 + t^75 + t^74 + t^72 + t^71 + t^70 + t^65 + t^64 + t^63 + t^62 + t^61 + t^60 + t^59 + t^58 + t^57 + t^56 + t^54 + t^53 + t^52 + t^51 + t^50 + t^48 + t^45 + t^44 + t^43 + t^38 + t^36 + t^33 + t^31 + t^30 + t^24 + t^23 + t^22 + t^20 + t^17 + t^16 + t^15 + t^13 + t^10 + t^8 + t^7 + t^3 + t^2 + 1)\n",
      "Hex nP =  ('0x6df15db2531ad1af829f0ef4d94f4bd73f4633c4b7d995d98ca46f667045ee8', '0x2eded0c2d7dfe145f5864a99fc5c8d291244a75c6f63dc3ff7d3852c1d3a58d')\n",
      "res =  t^249 + t^248 + t^247 + t^246 + t^245 + t^244 + t^238 + t^235 + t^226 + t^225 + t^222 + t^219 + t^218 + t^217 + t^216 + t^215 + t^213 + t^210 + t^208 + t^206 + t^205 + t^204 + t^198 + t^197 + t^194 + t^192 + t^191 + t^189 + t^188 + t^183 + t^182 + t^177 + t^175 + t^174 + t^172 + t^167 + t^165 + t^164 + t^163 + t^160 + t^158 + t^157 + t^151 + t^148 + t^147 + t^146 + t^145 + t^144 + t^143 + t^141 + t^136 + t^134 + t^133 + t^132 + t^130 + t^129 + t^128 + t^127 + t^126 + t^125 + t^124 + t^122 + t^121 + t^120 + t^118 + t^115 + t^114 + t^111 + t^107 + t^106 + t^105 + t^102 + t^99 + t^98 + t^94 + t^91 + t^90 + t^89 + t^87 + t^86 + t^85 + t^82 + t^81 + t^80 + t^79 + t^77 + t^74 + t^72 + t^64 + t^63 + t^59 + t^58 + t^57 + t^56 + t^55 + t^54 + t^53 + t^51 + t^50 + t^48 + t^47 + t^46 + t^44 + t^43 + t^42 + t^41 + t^39 + t^37 + t^36 + t^29 + t^27 + t^25 + t^24 + t^23 + t^20 + t^19 + t^18 + t^17 + t^15 + t^14 + t^11 + t^5 + t^2 + t\n",
      "Hex res for fixed base=  0x3f048064fa57065b0c2d0b9609fa177f74c8e4c4ee7a5018feddeb02b9ec826\n",
      "\n",
      "\n",
      "-----------VARIABLE BASE OUTPUTS----------------\n",
      "Point P: (t^3 + t^2, 1)\n",
      "Point P: (t^249 + t^248 + t^247 + t^246 + t^245 + t^244 + t^238 + t^235 + t^226 + t^225 + t^222 + t^219 + t^218 + t^217 + t^216 + t^215 + t^213 + t^210 + t^208 + t^206 + t^205 + t^204 + t^198 + t^197 + t^194 + t^192 + t^191 + t^189 + t^188 + t^183 + t^182 + t^177 + t^175 + t^174 + t^172 + t^167 + t^165 + t^164 + t^163 + t^160 + t^158 + t^157 + t^151 + t^148 + t^147 + t^146 + t^145 + t^144 + t^143 + t^141 + t^136 + t^134 + t^133 + t^132 + t^130 + t^129 + t^128 + t^127 + t^126 + t^125 + t^124 + t^122 + t^121 + t^120 + t^118 + t^115 + t^114 + t^111 + t^107 + t^106 + t^105 + t^102 + t^99 + t^98 + t^94 + t^91 + t^90 + t^89 + t^87 + t^86 + t^85 + t^82 + t^81 + t^80 + t^79 + t^77 + t^74 + t^72 + t^64 + t^63 + t^59 + t^58 + t^57 + t^56 + t^55 + t^54 + t^53 + t^51 + t^50 + t^48 + t^47 + t^46 + t^44 + t^43 + t^42 + t^41 + t^39 + t^37 + t^36 + t^29 + t^27 + t^25 + t^24 + t^23 + t^20 + t^19 + t^18 + t^17 + t^15 + t^14 + t^11 + t^5 + t^2 + t, 1)\n",
      "Point nP: (t^250 + t^249 + t^248 + t^247 + t^243 + t^241 + t^235 + t^234 + t^230 + t^228 + t^227 + t^225 + t^223 + t^221 + t^220 + t^219 + t^217 + t^210 + t^208 + t^196 + t^195 + t^193 + t^192 + t^191 + t^190 + t^189 + t^188 + t^184 + t^181 + t^176 + t^175 + t^173 + t^172 + t^169 + t^166 + t^165 + t^163 + t^162 + t^161 + t^160 + t^157 + t^154 + t^153 + t^152 + t^147 + t^146 + t^144 + t^131 + t^129 + t^128 + t^127 + t^125 + t^124 + t^122 + t^120 + t^119 + t^117 + t^116 + t^115 + t^114 + t^113 + t^111 + t^110 + t^107 + t^106 + t^105 + t^104 + t^103 + t^101 + t^99 + t^96 + t^95 + t^93 + t^92 + t^91 + t^86 + t^82 + t^79 + t^77 + t^75 + t^74 + t^73 + t^71 + t^69 + t^68 + t^67 + t^63 + t^62 + t^60 + t^59 + t^58 + t^56 + t^53 + t^50 + t^49 + t^44 + t^40 + t^39 + t^38 + t^36 + t^35 + t^34 + t^33 + t^32 + t^30 + t^29 + t^28 + t^27 + t^26 + t^23 + t^21 + t^18 + t^16 + t^15 + t^14 + t^13 + t^12 + t^9 + t^7 + t + 1, t^250 + t^249 + t^246 + t^243 + t^242 + t^233 + t^228 + t^227 + t^226 + t^225 + t^223 + t^221 + t^220 + t^218 + t^217 + t^214 + t^213 + t^212 + t^211 + t^205 + t^203 + t^202 + t^200 + t^199 + t^196 + t^195 + t^194 + t^193 + t^189 + t^184 + t^181 + t^180 + t^179 + t^176 + t^173 + t^172 + t^170 + t^169 + t^168 + t^167 + t^164 + t^161 + t^160 + t^159 + t^158 + t^155 + t^154 + t^150 + t^148 + t^147 + t^146 + t^145 + t^144 + t^139 + t^138 + t^137 + t^136 + t^135 + t^134 + t^132 + t^129 + t^128 + t^126 + t^123 + t^122 + t^119 + t^116 + t^115 + t^112 + t^110 + t^107 + t^105 + t^103 + t^100 + t^98 + t^97 + t^96 + t^95 + t^94 + t^89 + t^87 + t^85 + t^82 + t^81 + t^78 + t^75 + t^73 + t^72 + t^70 + t^68 + t^67 + t^65 + t^64 + t^63 + t^62 + t^61 + t^59 + t^56 + t^55 + t^54 + t^53 + t^50 + t^49 + t^44 + t^42 + t^41 + t^40 + t^38 + t^36 + t^35 + t^33 + t^32 + t^26 + t^25 + t^22 + t^20 + t^18 + t^17 + t^13 + t^11 + t^9 + t^8 + t^4 + t^3 + t^2 + 1)\n",
      "Hex nP =  ('0x78a0c5aba05001bf121b26f270d000bb5becfa9b844aeb8dd2611df7ca5f283', '0x64c021eb6782d9e21393793cc5f0fd34c994a97c2a64b5be9e6175b06562b1d')\n",
      "res =  t^250 + t^249 + t^247 + t^244 + t^242 + t^241 + t^240 + t^239 + t^237 + t^236 + t^234 + t^233 + t^232 + t^231 + t^229 + t^226 + t^225 + t^220 + t^215 + t^212 + t^210 + t^208 + t^207 + t^203 + t^201 + t^200 + t^199 + t^198 + t^197 + t^195 + t^194 + t^192 + t^191 + t^190 + t^187 + t^185 + t^183 + t^182 + t^181 + t^180 + t^178 + t^175 + t^173 + t^170 + t^168 + t^166 + t^163 + t^158 + t^155 + t^151 + t^150 + t^149 + t^147 + t^145 + t^144 + t^143 + t^142 + t^141 + t^139 + t^137 + t^136 + t^135 + t^133 + t^132 + t^128 + t^125 + t^121 + t^117 + t^116 + t^114 + t^108 + t^107 + t^106 + t^100 + t^96 + t^94 + t^92 + t^91 + t^90 + t^89 + t^86 + t^85 + t^81 + t^80 + t^79 + t^78 + t^77 + t^76 + t^75 + t^74 + t^72 + t^70 + t^68 + t^65 + t^62 + t^59 + t^58 + t^57 + t^55 + t^54 + t^52 + t^51 + t^50 + t^48 + t^46 + t^45 + t^33 + t^29 + t^28 + t^26 + t^20 + t^19 + t^18 + t^16 + t^14 + t^12 + t^10 + t^9 + t^5 + t^4 + t\n",
      "Hex res for variable base=  0x697b7a610958bedcaf4a54848ebebb122341c115e63fd524edd6002341d5632\n"
     ]
    }
   ],
   "source": [
    "# Define point doubling in projective coordinates\n",
    "def point_doubling(P):\n",
    "    x1, z1 = P  # Projective coordinates (x1, z1)\n",
    "    x3 = b * (x1**2 + z1**2)**2\n",
    "    z3 = (x1 * z1)**2\n",
    "    return x3, z3\n",
    "\n",
    "\n",
    "# Define differential addition in projective coordinates\n",
    "def differential_addition(P, Q):\n",
    "    x1, z1 = P\n",
    "    x2, z2 = Q\n",
    "    x4 = z * (x1 * x2 + z1 * z2)**2\n",
    "    z4 = x * (x1 * z2 + x2 * z1)**2\n",
    "    return (x4, z4)\n",
    "\n",
    "def scalarMultiplication(n, P):\n",
    "    x1,z1 = P\n",
    "    S = P  # S = P   \n",
    "    R = point_doubling(S)  # R = 2P\n",
    "\n",
    "    bitlen = n.nbits()  # Get number of bits in n\n",
    "    #print(bitlen)\n",
    "    for i in range(bitlen - 2, -1, -1):\n",
    "        bit = (n >> i) & 1  # Extract the i-th bit\n",
    "        if bit == 0:\n",
    "            R = differential_addition(S, R)  \n",
    "            S = point_doubling(S)\n",
    "        else:\n",
    "            S = differential_addition(S, R)\n",
    "            R = point_doubling(R)\n",
    "    return S\n",
    "\n",
    "#scalar input\n",
    "n=0x5313dfcc10abff26e2953a162d9cca33f63fd151772bd8582c35adafd3cc9b4\n",
    "print(f\"scalar: {hex(n)}\")\n",
    "\n",
    "# point P\n",
    "x1 = x\n",
    "z1 = 1\n",
    "P = (x1, z1)\n",
    "print(f\"Point P: {P}\")\n",
    "# compute point dobling at point P\n",
    "P_dbl = point_doubling(P)\n",
    "#print(f\"Point 2P: {P_dbl}\")\n",
    "print(\"Hex 2P = \", (hex(Tohex(P_dbl[0])), hex(Tohex(P_dbl[1]))))\n",
    "\n",
    "P_dadd = differential_addition(P_dbl, P)\n",
    "#print(f\"Point P+P_dbl: {P_dadd}\")\n",
    "print(\"Hex P+2P = \", (hex(Tohex(P_dadd[0])), hex(Tohex(P_dadd[1]))))\n",
    "\n",
    "#temp = differential_addition(P_dbl, P_dadd)\n",
    "#print(f\"Point 5P: {temp}\")\n",
    "print(\"-----------FIXED BASE OUTPUTS----------------\")\n",
    "print(f\"Point P: {P}\")\n",
    "P__hex = (hex(Tohex(P[0])),hex(Tohex(P[1])))\n",
    "print(\"Hex P = \", P__hex)\n",
    "\n",
    "P_mult = scalarMultiplication(n, P)\n",
    "P_mult_hex = (hex(Tohex(P_mult[0])),hex(Tohex(P_mult[1])))\n",
    "\n",
    "print(f\"Point nP: {P_mult}\")\n",
    "print(\"Hex nP = \", P_mult_hex)\n",
    "\n",
    "res = P_mult[0]/P_mult[1]\n",
    "print(\"res = \", res)\n",
    "print(\"Hex res for fixed base= \", hex(Tohex(res)))\n",
    "\n",
    "print(\"\\n\")\n",
    "print(\"-----------VARIABLE BASE OUTPUTS----------------\")\n",
    "print(f\"Point P: {P}\")\n",
    "\n",
    "x = t^249 + t^248 + t^247 + t^246 + t^245 + t^244 + t^238 + t^235 + t^226 + t^225 + t^222 + t^219 + t^218 + t^217 + t^216 + t^215 + t^213 + t^210 + t^208 + t^206 + t^205 + t^204 + t^198 + t^197 + t^194 + t^192 + t^191 + t^189 + t^188 + t^183 + t^182 + t^177 + t^175 + t^174 + t^172 + t^167 + t^165 + t^164 + t^163 + t^160 + t^158 + t^157 + t^151 + t^148 + t^147 + t^146 + t^145 + t^144 + t^143 + t^141 + t^136 + t^134 + t^133 + t^132 + t^130 + t^129 + t^128 + t^127 + t^126 + t^125 + t^124 + t^122 + t^121 + t^120 + t^118 + t^115 + t^114 + t^111 + t^107 + t^106 + t^105 + t^102 + t^99 + t^98 + t^94 + t^91 + t^90 + t^89 + t^87 + t^86 + t^85 + t^82 + t^81 + t^80 + t^79 + t^77 + t^74 + t^72 + t^64 + t^63 + t^59 + t^58 + t^57 + t^56 + t^55 + t^54 + t^53 + t^51 + t^50 + t^48 + t^47 + t^46 + t^44 + t^43 + t^42 + t^41 + t^39 + t^37 + t^36 + t^29 + t^27 + t^25 + t^24 + t^23 + t^20 + t^19 + t^18 + t^17 + t^15 + t^14 + t^11 + t^5 + t^2 + t\n",
    "z = 1\n",
    "x1 = x\n",
    "z1 = 1\n",
    "P = (x1, z1)\n",
    "\n",
    "print(f\"Point P: {P}\")\n",
    "P_mult = scalarMultiplication(n, P)\n",
    "P_mult_hex = (hex(Tohex(P_mult[0])),hex(Tohex(P_mult[1])))\n",
    "print(f\"Point nP: {P_mult}\")\n",
    "print(\"Hex nP = \", P_mult_hex)\n",
    "\n",
    "res = P_mult[0]/P_mult[1]\n",
    "print(\"res = \", res)\n",
    "print(\"Hex res for variable base= \", hex(Tohex(res)))\n"
   ]
  },
  {
   "cell_type": "code",
   "execution_count": null,
   "id": "b6b694bc",
   "metadata": {},
   "outputs": [],
   "source": [
    "_4P = point_doubling(P_dbl)\n",
    "print(\"Hex 4P = \", (hex(Tohex(_4P[0])), hex(Tohex(_4P[1]))))"
   ]
  },
  {
   "cell_type": "code",
   "execution_count": null,
   "id": "25cf1ef8",
   "metadata": {},
   "outputs": [],
   "source": [
    "_5P= differential_addition(P_dbl, P_dadd)\n",
    "print(\"Hex P+4P = \", (hex(Tohex(_5P[0])), hex(Tohex(_5P[1]))))"
   ]
  },
  {
   "cell_type": "code",
   "execution_count": null,
   "id": "a2930ea8",
   "metadata": {},
   "outputs": [],
   "source": []
  }
 ],
 "metadata": {
  "kernelspec": {
   "display_name": "SageMath 9.5",
   "language": "sage",
   "name": "sagemath"
  },
  "language_info": {
   "codemirror_mode": {
    "name": "ipython",
    "version": 3
   },
   "file_extension": ".py",
   "mimetype": "text/x-python",
   "name": "python",
   "nbconvert_exporter": "python",
   "pygments_lexer": "ipython3",
   "version": "3.10.12"
  }
 },
 "nbformat": 4,
 "nbformat_minor": 5
}
