{
 "cells": [
  {
   "cell_type": "markdown",
   "id": "aeb6303a",
   "metadata": {},
   "source": [
    "## Define the BKL Curve "
   ]
  },
  {
   "cell_type": "code",
   "execution_count": 1,
   "id": "b8d064eb",
   "metadata": {},
   "outputs": [
    {
     "name": "stdout",
     "output_type": "stream",
     "text": [
      "b = t^15 + t^10 + t^9 + t^7 + t^6 + t^5 + t^2 + 1\n",
      "x = t^3\n",
      "z = 1\n"
     ]
    }
   ],
   "source": [
    "from sage.all import *\n",
    "\n",
    "# Define the reduction polynomial t^251 + t^7 + t^4 + t^2 + 1\n",
    "p = 2\n",
    "n = 257\n",
    "#modulus = \n",
    "\n",
    "# Define the binary field F_2^251\n",
    "F = GF(p**n, name='t', modulus=x^257 + x^12 + 1)  # Finite field with specified modulus\n",
    "t = F.gen()  # Define t as the generator of the finite field\n",
    "\n",
    "# Define b as a polynomial\n",
    "b = t^15 + t^10 + t^9 + t^7 + t^6 + t^5 + t^2 + 1   # b = 0x86e5\n",
    "\n",
    "# Define constants x and z explicitly\n",
    "x = t^3  # x = 0x03\n",
    "z = 1      # z = 0x01\n",
    "\n",
    "# Print definitions\n",
    "print(f\"b = {b}\")\n",
    "print(f\"x = {x}\")\n",
    "print(f\"z = {z}\")"
   ]
  },
  {
   "cell_type": "markdown",
   "id": "7b2a9634",
   "metadata": {},
   "source": [
    "### Poly to Hex conversion\n"
   ]
  },
  {
   "cell_type": "code",
   "execution_count": 2,
   "id": "6d7870e8",
   "metadata": {},
   "outputs": [],
   "source": [
    "# Function to convert a finite field element to hexadecimal\n",
    "def Tohex(num):\n",
    "    # Check if the input is a finite field element or an integer\n",
    "    if hasattr(num, 'polynomial'):\n",
    "        poly = num.polynomial()\n",
    "        return sum(Integer(2)**i for i in poly.exponents())\n",
    "    elif isinstance(num, (int, Integer)):\n",
    "        # Convert an integer directly to its binary representation\n",
    "        return num\n",
    "    else:\n",
    "        raise TypeError(\"Unsupported type for Tohex: {}\".format(type(num)))\n",
    "    "
   ]
  },
  {
   "cell_type": "markdown",
   "id": "05b73f26",
   "metadata": {},
   "source": [
    "### Scalar Multiplication"
   ]
  },
  {
   "cell_type": "code",
   "execution_count": 3,
   "id": "c6f2fece",
   "metadata": {
    "scrolled": true
   },
   "outputs": [
    {
     "name": "stdout",
     "output_type": "stream",
     "text": [
      "scalar: 0x105313dfcc10abff26e2953a162d9cca33f63fd151772bd8582c35adafd3cc9b4\n",
      "Point P: (t^3, 1)\n",
      "Point 2P: (t^27 + t^22 + t^21 + t^19 + t^18 + t^17 + t^15 + t^14 + t^12 + t^10 + t^9 + t^7 + t^6 + t^5 + t^2 + 1, t^6)\n",
      "2P = ('0x86ed6e5', '0x40')\n",
      "Hex 2P =  ('0x1280000000000000000000000000000000000000000000000000000000021b21b', '0x1')\n",
      "Hex P+2P =  ('0x1005151445151440', '0x200a2a28882a088')\n",
      "-----------FIXED BASE OUTPUTS----------------\n",
      "Point P: (t^3, 1)\n",
      "Hex P =  ('0x8', '0x1')\n",
      "Point nP: (t^256 + t^255 + t^250 + t^247 + t^246 + t^244 + t^237 + t^235 + t^234 + t^233 + t^231 + t^230 + t^228 + t^224 + t^223 + t^220 + t^218 + t^217 + t^216 + t^214 + t^212 + t^211 + t^207 + t^205 + t^204 + t^203 + t^201 + t^200 + t^196 + t^195 + t^194 + t^190 + t^188 + t^187 + t^185 + t^184 + t^178 + t^175 + t^173 + t^169 + t^166 + t^162 + t^160 + t^159 + t^158 + t^155 + t^154 + t^152 + t^151 + t^148 + t^147 + t^146 + t^141 + t^140 + t^139 + t^138 + t^137 + t^135 + t^134 + t^128 + t^127 + t^124 + t^123 + t^122 + t^119 + t^118 + t^117 + t^116 + t^112 + t^110 + t^109 + t^107 + t^104 + t^103 + t^102 + t^101 + t^98 + t^96 + t^95 + t^93 + t^90 + t^89 + t^87 + t^84 + t^83 + t^82 + t^81 + t^79 + t^78 + t^77 + t^76 + t^69 + t^67 + t^66 + t^65 + t^63 + t^57 + t^56 + t^47 + t^42 + t^39 + t^37 + t^32 + t^31 + t^29 + t^28 + t^24 + t^23 + t^22 + t^20 + t^18 + t^17 + t^14 + t^12 + t^10 + t^9 + t^4 + t^3 + t + 1, t^254 + t^253 + t^252 + t^251 + t^247 + t^246 + t^245 + t^243 + t^242 + t^241 + t^236 + t^235 + t^234 + t^232 + t^230 + t^226 + t^225 + t^222 + t^220 + t^219 + t^218 + t^216 + t^215 + t^213 + t^212 + t^211 + t^210 + t^209 + t^208 + t^207 + t^204 + t^203 + t^202 + t^201 + t^198 + t^197 + t^196 + t^194 + t^192 + t^190 + t^188 + t^187 + t^186 + t^183 + t^182 + t^179 + t^175 + t^172 + t^169 + t^168 + t^166 + t^163 + t^161 + t^160 + t^158 + t^155 + t^154 + t^151 + t^150 + t^147 + t^144 + t^143 + t^142 + t^141 + t^139 + t^132 + t^130 + t^128 + t^126 + t^125 + t^124 + t^123 + t^122 + t^121 + t^116 + t^115 + t^112 + t^109 + t^104 + t^103 + t^101 + t^100 + t^98 + t^92 + t^89 + t^88 + t^87 + t^86 + t^85 + t^81 + t^80 + t^79 + t^76 + t^75 + t^74 + t^73 + t^71 + t^68 + t^67 + t^59 + t^57 + t^56 + t^55 + t^54 + t^52 + t^49 + t^47 + t^44 + t^42 + t^41 + t^40 + t^37 + t^35 + t^34 + t^30 + t^26 + t^25 + t^22 + t^21 + t^17 + t^16 + t^14 + t^9 + t^5 + t^3 + t^2 + t)\n",
      "Hex nP =  ('0x184d02ed19758bb1c5b04a245cd9c3ec19cf169e5a69ef02e830084a1b1d6561b', '0x78ee1d465dbf9e755cc8934b4cc9e8157e1921b413e39e980bd2972c4663422e')\n",
      "res =  t^255 + t^254 + t^251 + t^250 + t^249 + t^248 + t^247 + t^243 + t^239 + t^236 + t^230 + t^227 + t^224 + t^218 + t^217 + t^216 + t^215 + t^214 + t^213 + t^212 + t^210 + t^209 + t^206 + t^203 + t^201 + t^199 + t^198 + t^194 + t^191 + t^190 + t^189 + t^185 + t^183 + t^179 + t^178 + t^176 + t^172 + t^171 + t^169 + t^168 + t^166 + t^164 + t^160 + t^158 + t^153 + t^152 + t^150 + t^142 + t^136 + t^134 + t^133 + t^132 + t^129 + t^128 + t^126 + t^124 + t^119 + t^118 + t^117 + t^116 + t^115 + t^113 + t^112 + t^110 + t^108 + t^107 + t^102 + t^98 + t^97 + t^96 + t^93 + t^92 + t^91 + t^88 + t^86 + t^85 + t^84 + t^79 + t^77 + t^75 + t^68 + t^66 + t^64 + t^61 + t^60 + t^59 + t^58 + t^57 + t^54 + t^53 + t^52 + t^51 + t^47 + t^45 + t^43 + t^39 + t^36 + t^34 + t^33 + t^32 + t^30 + t^29 + t^24 + t^21 + t^18 + t^17 + t^16 + t^14 + t^13 + t^11 + t^8 + t^7 + t + 1\n",
      "Hex res for fixed base=  0xcf88904907f64ac4e28d1b514340417350fb58473970a8153e78a89761276983\n",
      "\n",
      "\n",
      "-----------VARIABLE BASE OUTPUTS----------------\n",
      "Point P: (t^255 + t^254 + t^251 + t^250 + t^249 + t^248 + t^247 + t^243 + t^239 + t^236 + t^230 + t^227 + t^224 + t^218 + t^217 + t^216 + t^215 + t^214 + t^213 + t^212 + t^210 + t^209 + t^206 + t^203 + t^201 + t^199 + t^198 + t^194 + t^191 + t^190 + t^189 + t^185 + t^183 + t^179 + t^178 + t^176 + t^172 + t^171 + t^169 + t^168 + t^166 + t^164 + t^160 + t^158 + t^153 + t^152 + t^150 + t^142 + t^136 + t^134 + t^133 + t^132 + t^129 + t^128 + t^126 + t^124 + t^119 + t^118 + t^117 + t^116 + t^115 + t^113 + t^112 + t^110 + t^108 + t^107 + t^102 + t^98 + t^97 + t^96 + t^93 + t^92 + t^91 + t^88 + t^86 + t^85 + t^84 + t^79 + t^77 + t^75 + t^68 + t^66 + t^64 + t^61 + t^60 + t^59 + t^58 + t^57 + t^54 + t^53 + t^52 + t^51 + t^47 + t^45 + t^43 + t^39 + t^36 + t^34 + t^33 + t^32 + t^30 + t^29 + t^24 + t^21 + t^18 + t^17 + t^16 + t^14 + t^13 + t^11 + t^8 + t^7 + t + 1, 1)\n",
      "Hex P =  ('0xcf88904907f64ac4e28d1b514340417350fb58473970a8153e78a89761276983', '0x1')\n",
      "Hex 2P =  ('0x1c007f9eca0778396cda7db6497dccf6fcf29575e41fe5aee476eb26d30c3d78', '0x19328f76d314210352fe31f086ee2abb90d54bd62ec6ac115b4838c9514fdfbc6')\n",
      "Point nP: (t^253 + t^251 + t^250 + t^249 + t^247 + t^239 + t^238 + t^236 + t^235 + t^234 + t^232 + t^231 + t^230 + t^228 + t^223 + t^222 + t^218 + t^217 + t^216 + t^215 + t^214 + t^211 + t^210 + t^209 + t^207 + t^205 + t^203 + t^198 + t^197 + t^196 + t^192 + t^191 + t^188 + t^185 + t^181 + t^178 + t^176 + t^175 + t^173 + t^170 + t^169 + t^167 + t^164 + t^163 + t^162 + t^161 + t^160 + t^159 + t^158 + t^156 + t^155 + t^153 + t^151 + t^150 + t^144 + t^143 + t^140 + t^136 + t^135 + t^131 + t^129 + t^127 + t^126 + t^125 + t^124 + t^120 + t^119 + t^118 + t^114 + t^111 + t^109 + t^108 + t^107 + t^102 + t^100 + t^99 + t^94 + t^92 + t^91 + t^89 + t^86 + t^84 + t^81 + t^78 + t^75 + t^74 + t^71 + t^69 + t^68 + t^67 + t^64 + t^63 + t^61 + t^60 + t^59 + t^57 + t^55 + t^53 + t^51 + t^50 + t^48 + t^47 + t^39 + t^37 + t^36 + t^35 + t^28 + t^27 + t^22 + t^21 + t^20 + t^16 + t^12 + t^10 + t^9 + t^7 + t^3 + t + 1, t^256 + t^254 + t^253 + t^250 + t^249 + t^246 + t^245 + t^244 + t^238 + t^237 + t^236 + t^235 + t^233 + t^228 + t^225 + t^222 + t^221 + t^219 + t^218 + t^217 + t^215 + t^214 + t^210 + t^209 + t^207 + t^206 + t^205 + t^202 + t^201 + t^198 + t^196 + t^194 + t^193 + t^190 + t^189 + t^187 + t^183 + t^181 + t^179 + t^177 + t^176 + t^175 + t^172 + t^171 + t^170 + t^168 + t^166 + t^165 + t^162 + t^161 + t^160 + t^158 + t^157 + t^156 + t^153 + t^152 + t^151 + t^150 + t^147 + t^144 + t^143 + t^142 + t^140 + t^139 + t^137 + t^134 + t^133 + t^131 + t^129 + t^128 + t^123 + t^120 + t^119 + t^118 + t^116 + t^115 + t^110 + t^108 + t^107 + t^106 + t^102 + t^101 + t^98 + t^97 + t^94 + t^93 + t^92 + t^91 + t^90 + t^88 + t^85 + t^81 + t^77 + t^76 + t^75 + t^73 + t^72 + t^67 + t^66 + t^65 + t^64 + t^63 + t^62 + t^58 + t^57 + t^55 + t^54 + t^53 + t^52 + t^50 + t^48 + t^47 + t^43 + t^41 + t^39 + t^38 + t^37 + t^36 + t^33 + t^29 + t^27 + t^25 + t^24 + t^23 + t^22 + t^20 + t^16 + t^14 + t^13 + t^11 + t^10 + t^7 + t^6 + t^5 + t + 1)\n",
      "Hex nP =  ('0x2e80ddd0c7cea8719225a69fdac1918af1c4b8585a524cb9baad80b81871168b', '0x166707a126ec6e65668ab9d6773c9da6b09d85c667d223b0fc6f58af22bd16ce3')\n",
      "res =  t^256 + t^255 + t^254 + t^253 + t^250 + t^248 + t^247 + t^246 + t^243 + t^241 + t^240 + t^235 + t^233 + t^230 + t^228 + t^227 + t^225 + t^218 + t^216 + t^214 + t^209 + t^208 + t^207 + t^206 + t^204 + t^203 + t^200 + t^199 + t^197 + t^195 + t^192 + t^191 + t^188 + t^186 + t^184 + t^183 + t^181 + t^180 + t^179 + t^177 + t^176 + t^172 + t^170 + t^169 + t^168 + t^167 + t^162 + t^160 + t^159 + t^154 + t^151 + t^150 + t^148 + t^147 + t^141 + t^140 + t^138 + t^137 + t^135 + t^132 + t^131 + t^130 + t^129 + t^127 + t^126 + t^125 + t^124 + t^122 + t^121 + t^117 + t^116 + t^113 + t^111 + t^110 + t^109 + t^107 + t^105 + t^102 + t^100 + t^99 + t^98 + t^94 + t^93 + t^92 + t^91 + t^85 + t^82 + t^81 + t^78 + t^75 + t^74 + t^72 + t^67 + t^66 + t^64 + t^61 + t^59 + t^57 + t^54 + t^53 + t^52 + t^48 + t^46 + t^45 + t^41 + t^40 + t^39 + t^37 + t^35 + t^32 + t^30 + t^29 + t^27 + t^23 + t^22 + t^20 + t^19 + t^18 + t^17 + t^16 + t^14 + t^13 + t^12 + t^11 + t^5 + t^4 + t\n",
      "Hex res for variable base=  0x1e5cb0a5a0543d9a995bb178584d8369ef632ea5c78264d0d2a7163a968df7832\n"
     ]
    }
   ],
   "source": [
    "# Define point doubling in projective coordinates\n",
    "def point_doubling(P):\n",
    "    x1, z1 = P  # Projective coordinates (x1, z1)\n",
    "    x3 = b * (x1**2 + z1**2)**2\n",
    "    z3 = (x1 * z1)**2\n",
    "    return x3, z3\n",
    "\n",
    "\n",
    "# Define differential addition in projective coordinates\n",
    "def differential_addition(P, Q):\n",
    "    x1, z1 = P\n",
    "    x2, z2 = Q\n",
    "    x4 = z * (x1 * x2 + z1 * z2)**2\n",
    "    z4 = x * (x1 * z2 + x2 * z1)**2\n",
    "    return (x4, z4)\n",
    "\n",
    "def scalarMultiplication(n, P):\n",
    "    x1,z1 = P\n",
    "    S = P  # S = P   \n",
    "    R = point_doubling(S)  # R = 2P\n",
    "\n",
    "    bitlen = n.nbits()  # Get number of bits in n\n",
    "    #print(bitlen)\n",
    "    for i in range(bitlen - 2, -1, -1):\n",
    "        bit = (n >> i) & 1  # Extract the i-th bit\n",
    "        if bit == 0:\n",
    "            R = differential_addition(S, R)  \n",
    "            S = point_doubling(S)\n",
    "        else:\n",
    "            S = differential_addition(S, R)\n",
    "            R = point_doubling(R)\n",
    "    return S\n",
    "\n",
    "#scalar input\n",
    "n=0x0105313dfcc10abff26e2953a162d9cca33f63fd151772bd8582c35adafd3cc9b4\n",
    "print(f\"scalar: {hex(n)}\")\n",
    "\n",
    "# point P\n",
    "x1 = x\n",
    "z1 = 1\n",
    "P = (x1, z1)\n",
    "print(f\"Point P: {P}\")\n",
    "\n",
    "# compute point dobling at point P\n",
    "P_dbl = point_doubling(P)\n",
    "print(f\"Point 2P: {P_dbl}\")\n",
    "l = (hex(Tohex(P_dbl[0])),hex(Tohex(P_dbl[1])))\n",
    "print(\"2P =\", l)\n",
    "Px = P_dbl[0]/P_dbl[1]\n",
    "Pz = 1\n",
    "P_dbl_hex = (hex(Tohex(Px)),hex(Tohex(Pz)))\n",
    "print(\"Hex 2P = \", P_dbl_hex)\n",
    "\n",
    "\n",
    "P_dadd = differential_addition(P_dbl, P)\n",
    "#print(f\"Point P+P_dbl: {P_dadd}\")\n",
    "print(\"Hex P+2P = \", (hex(Tohex(P_dadd[0])), hex(Tohex(P_dadd[1]))))\n",
    "\n",
    "#temp = differential_addition(P_dbl, P_dadd)\n",
    "#print(f\"Point 5P: {temp}\")\n",
    "print(\"-----------FIXED BASE OUTPUTS----------------\")\n",
    "print(f\"Point P: {P}\")\n",
    "P__hex = (hex(Tohex(P[0])),hex(Tohex(P[1])))\n",
    "print(\"Hex P = \", P__hex)\n",
    "\n",
    "P_mult = scalarMultiplication(n, P)\n",
    "P_mult_hex = (hex(Tohex(P_mult[0])),hex(Tohex(P_mult[1])))\n",
    "\n",
    "print(f\"Point nP: {P_mult}\")\n",
    "print(\"Hex nP = \", P_mult_hex)\n",
    "\n",
    "res = P_mult[0]/P_mult[1]\n",
    "print(\"res = \", res)\n",
    "print(\"Hex res for fixed base= \", hex(Tohex(res)))\n",
    "\n",
    "print(\"\\n\")\n",
    "print(\"-----------VARIABLE BASE OUTPUTS----------------\")\n",
    "\n",
    "\n",
    "x = t^255 + t^254 + t^251 + t^250 + t^249 + t^248 + t^247 + t^243 + t^239 + t^236 + t^230 + t^227 + t^224 + t^218 + t^217 + t^216 + t^215 + t^214 + t^213 + t^212 + t^210 + t^209 + t^206 + t^203 + t^201 + t^199 + t^198 + t^194 + t^191 + t^190 + t^189 + t^185 + t^183 + t^179 + t^178 + t^176 + t^172 + t^171 + t^169 + t^168 + t^166 + t^164 + t^160 + t^158 + t^153 + t^152 + t^150 + t^142 + t^136 + t^134 + t^133 + t^132 + t^129 + t^128 + t^126 + t^124 + t^119 + t^118 + t^117 + t^116 + t^115 + t^113 + t^112 + t^110 + t^108 + t^107 + t^102 + t^98 + t^97 + t^96 + t^93 + t^92 + t^91 + t^88 + t^86 + t^85 + t^84 + t^79 + t^77 + t^75 + t^68 + t^66 + t^64 + t^61 + t^60 + t^59 + t^58 + t^57 + t^54 + t^53 + t^52 + t^51 + t^47 + t^45 + t^43 + t^39 + t^36 + t^34 + t^33 + t^32 + t^30 + t^29 + t^24 + t^21 + t^18 + t^17 + t^16 + t^14 + t^13 + t^11 + t^8 + t^7 + t + 1\n",
    "x1 = x\n",
    "z1 = 1\n",
    "P = (x1, z1)\n",
    "\n",
    "print(f\"Point P: {P}\")\n",
    "P__hex = (hex(Tohex(P[0])),hex(Tohex(P[1])))\n",
    "print(\"Hex P = \", P__hex)\n",
    "# compute point dobling at point P\n",
    "P_dbl = point_doubling(P)\n",
    "#print(f\"Point 2P: {P_dbl}\")\n",
    "print(\"Hex 2P = \", (hex(Tohex(P_dbl[0])), hex(Tohex(P_dbl[1]))))\n",
    "\n",
    "P_mult = scalarMultiplication(n, P)\n",
    "P_mult_hex = (hex(Tohex(P_mult[0])),hex(Tohex(P_mult[1])))\n",
    "print(f\"Point nP: {P_mult}\")\n",
    "print(\"Hex nP = \", P_mult_hex)\n",
    "\n",
    "res = P_mult[0]/P_mult[1]\n",
    "print(\"res = \", res)\n",
    "print(\"Hex res for variable base= \", hex(Tohex(res)))\n"
   ]
  },
  {
   "cell_type": "code",
   "execution_count": 14,
   "id": "6dc868b3",
   "metadata": {},
   "outputs": [
    {
     "name": "stdout",
     "output_type": "stream",
     "text": [
      "0x0\n"
     ]
    }
   ],
   "source": [
    "a = 0xcf88904907f64ac4e28d1b514340417350fb58473970a8153e78a89761276983\n",
    "b = 0xcf88904907f64ac4e28d1b514340417350fb58473970a8153e78a89761276983\n",
    "c = a - b\n",
    "print(hex(c))"
   ]
  },
  {
   "cell_type": "code",
   "execution_count": 15,
   "id": "b6b694bc",
   "metadata": {},
   "outputs": [
    {
     "name": "stdout",
     "output_type": "stream",
     "text": [
      "0x0\n"
     ]
    }
   ],
   "source": [
    "a = 0x1e5cb0a5a0543d9a995bb178584d8369ef632ea5c78264d0d2a7163a968df7832\n",
    "b = 0x1e5cb0a5a0543d9a995bb178584d8369ef632ea5c78264d0d2a7163a968df7832\n",
    "c = a - b\n",
    "print(hex(c))"
   ]
  },
  {
   "cell_type": "code",
   "execution_count": 6,
   "id": "25cf1ef8",
   "metadata": {},
   "outputs": [
    {
     "ename": "TypeError",
     "evalue": "int() can't convert non-string with explicit base",
     "output_type": "error",
     "traceback": [
      "\u001b[0;31m---------------------------------------------------------------------------\u001b[0m",
      "\u001b[0;31mTypeError\u001b[0m                                 Traceback (most recent call last)",
      "\u001b[0;32m/tmp/ipykernel_5891/1688804670.py\u001b[0m in \u001b[0;36m<module>\u001b[0;34m\u001b[0m\n\u001b[1;32m     19\u001b[0m \u001b[0;31m# Example usage\u001b[0m\u001b[0;34m\u001b[0m\u001b[0;34m\u001b[0m\u001b[0m\n\u001b[1;32m     20\u001b[0m \u001b[0mhex_input\u001b[0m \u001b[0;34m=\u001b[0m \u001b[0mInteger\u001b[0m\u001b[0;34m(\u001b[0m\u001b[0;36m0x86e5\u001b[0m\u001b[0;34m)\u001b[0m  \u001b[0;31m# your hex string here\u001b[0m\u001b[0;34m\u001b[0m\u001b[0;34m\u001b[0m\u001b[0m\n\u001b[0;32m---> 21\u001b[0;31m \u001b[0mfield_element\u001b[0m \u001b[0;34m=\u001b[0m \u001b[0mhex_to_field_element\u001b[0m\u001b[0;34m(\u001b[0m\u001b[0mhex_input\u001b[0m\u001b[0;34m)\u001b[0m\u001b[0;34m\u001b[0m\u001b[0;34m\u001b[0m\u001b[0m\n\u001b[0m\u001b[1;32m     22\u001b[0m \u001b[0;34m\u001b[0m\u001b[0m\n\u001b[1;32m     23\u001b[0m \u001b[0mprint\u001b[0m\u001b[0;34m(\u001b[0m\u001b[0;34mf\"Hex '{hex_input}' as field element: {field_element}\"\u001b[0m\u001b[0;34m)\u001b[0m\u001b[0;34m\u001b[0m\u001b[0;34m\u001b[0m\u001b[0m\n",
      "\u001b[0;32m/tmp/ipykernel_5891/1688804670.py\u001b[0m in \u001b[0;36mhex_to_field_element\u001b[0;34m(hex_str)\u001b[0m\n\u001b[1;32m      4\u001b[0m     \"\"\"\n\u001b[1;32m      5\u001b[0m     \u001b[0;31m# Step 1: Convert hex string to integer\u001b[0m\u001b[0;34m\u001b[0m\u001b[0;34m\u001b[0m\u001b[0m\n\u001b[0;32m----> 6\u001b[0;31m     \u001b[0mnum\u001b[0m \u001b[0;34m=\u001b[0m \u001b[0mint\u001b[0m\u001b[0;34m(\u001b[0m\u001b[0mhex_str\u001b[0m\u001b[0;34m,\u001b[0m \u001b[0mInteger\u001b[0m\u001b[0;34m(\u001b[0m\u001b[0;36m16\u001b[0m\u001b[0;34m)\u001b[0m\u001b[0;34m)\u001b[0m\u001b[0;34m\u001b[0m\u001b[0;34m\u001b[0m\u001b[0m\n\u001b[0m\u001b[1;32m      7\u001b[0m \u001b[0;34m\u001b[0m\u001b[0m\n\u001b[1;32m      8\u001b[0m     \u001b[0;31m# Step 2: Convert integer to binary vector of coefficients\u001b[0m\u001b[0;34m\u001b[0m\u001b[0;34m\u001b[0m\u001b[0m\n",
      "\u001b[0;31mTypeError\u001b[0m: int() can't convert non-string with explicit base"
     ]
    }
   ],
   "source": []
  },
  {
   "cell_type": "code",
   "execution_count": null,
   "id": "a2930ea8",
   "metadata": {},
   "outputs": [],
   "source": []
  }
 ],
 "metadata": {
  "kernelspec": {
   "display_name": "SageMath 9.5",
   "language": "sage",
   "name": "sagemath"
  },
  "language_info": {
   "codemirror_mode": {
    "name": "ipython",
    "version": 3
   },
   "file_extension": ".py",
   "mimetype": "text/x-python",
   "name": "python",
   "nbconvert_exporter": "python",
   "pygments_lexer": "ipython3",
   "version": "3.10.12"
  }
 },
 "nbformat": 4,
 "nbformat_minor": 5
}
